{
 "cells": [
  {
   "cell_type": "code",
   "execution_count": 1,
   "metadata": {},
   "outputs": [],
   "source": [
    " # Dependencies and Setup\n",
    "import matplotlib.pyplot as plt\n",
    "import pandas as pd\n",
    "import numpy as np\n",
    "import requests\n",
    "import gmaps\n",
    "import os\n",
    "\n",
    "# Import API key\n",
    "from api_keys import g_key"
   ]
  },
  {
   "cell_type": "code",
   "execution_count": 37,
   "metadata": {},
   "outputs": [
    {
     "data": {
      "text/html": [
       "<div>\n",
       "<style scoped>\n",
       "    .dataframe tbody tr th:only-of-type {\n",
       "        vertical-align: middle;\n",
       "    }\n",
       "\n",
       "    .dataframe tbody tr th {\n",
       "        vertical-align: top;\n",
       "    }\n",
       "\n",
       "    .dataframe thead th {\n",
       "        text-align: right;\n",
       "    }\n",
       "</style>\n",
       "<table border=\"1\" class=\"dataframe\">\n",
       "  <thead>\n",
       "    <tr style=\"text-align: right;\">\n",
       "      <th></th>\n",
       "      <th>city</th>\n",
       "      <th>clouds</th>\n",
       "      <th>country</th>\n",
       "      <th>date</th>\n",
       "      <th>humid</th>\n",
       "      <th>lat</th>\n",
       "      <th>lng</th>\n",
       "      <th>max temperature</th>\n",
       "      <th>wind speed</th>\n",
       "      <th>hemi</th>\n",
       "    </tr>\n",
       "  </thead>\n",
       "  <tbody>\n",
       "    <tr>\n",
       "      <th>0</th>\n",
       "      <td>jamestown</td>\n",
       "      <td>65</td>\n",
       "      <td>AU</td>\n",
       "      <td>1570464674</td>\n",
       "      <td>95</td>\n",
       "      <td>-33.21</td>\n",
       "      <td>138.60</td>\n",
       "      <td>43.97</td>\n",
       "      <td>9.93</td>\n",
       "      <td>southern</td>\n",
       "    </tr>\n",
       "    <tr>\n",
       "      <th>1</th>\n",
       "      <td>carballo</td>\n",
       "      <td>90</td>\n",
       "      <td>ES</td>\n",
       "      <td>1570465089</td>\n",
       "      <td>64</td>\n",
       "      <td>43.21</td>\n",
       "      <td>-8.69</td>\n",
       "      <td>75.99</td>\n",
       "      <td>3.36</td>\n",
       "      <td>northern</td>\n",
       "    </tr>\n",
       "    <tr>\n",
       "      <th>2</th>\n",
       "      <td>rocha</td>\n",
       "      <td>0</td>\n",
       "      <td>UY</td>\n",
       "      <td>1570464900</td>\n",
       "      <td>64</td>\n",
       "      <td>-34.48</td>\n",
       "      <td>-54.34</td>\n",
       "      <td>67.55</td>\n",
       "      <td>13.42</td>\n",
       "      <td>southern</td>\n",
       "    </tr>\n",
       "    <tr>\n",
       "      <th>3</th>\n",
       "      <td>saldanha</td>\n",
       "      <td>63</td>\n",
       "      <td>PT</td>\n",
       "      <td>1570465089</td>\n",
       "      <td>20</td>\n",
       "      <td>41.42</td>\n",
       "      <td>-6.55</td>\n",
       "      <td>80.33</td>\n",
       "      <td>2.28</td>\n",
       "      <td>northern</td>\n",
       "    </tr>\n",
       "    <tr>\n",
       "      <th>4</th>\n",
       "      <td>impfondo</td>\n",
       "      <td>100</td>\n",
       "      <td>CD</td>\n",
       "      <td>1570465090</td>\n",
       "      <td>95</td>\n",
       "      <td>1.62</td>\n",
       "      <td>18.06</td>\n",
       "      <td>74.93</td>\n",
       "      <td>1.12</td>\n",
       "      <td>northern</td>\n",
       "    </tr>\n",
       "  </tbody>\n",
       "</table>\n",
       "</div>"
      ],
      "text/plain": [
       "        city  clouds country        date  humid    lat     lng  \\\n",
       "0  jamestown      65      AU  1570464674     95 -33.21  138.60   \n",
       "1   carballo      90      ES  1570465089     64  43.21   -8.69   \n",
       "2      rocha       0      UY  1570464900     64 -34.48  -54.34   \n",
       "3   saldanha      63      PT  1570465089     20  41.42   -6.55   \n",
       "4   impfondo     100      CD  1570465090     95   1.62   18.06   \n",
       "\n",
       "   max temperature  wind speed      hemi  \n",
       "0            43.97        9.93  southern  \n",
       "1            75.99        3.36  northern  \n",
       "2            67.55       13.42  southern  \n",
       "3            80.33        2.28  northern  \n",
       "4            74.93        1.12  northern  "
      ]
     },
     "execution_count": 37,
     "metadata": {},
     "output_type": "execute_result"
    }
   ],
   "source": [
    "weather = pd.read_csv('weather_df.csv')\n",
    "weather.head()"
   ]
  },
  {
   "cell_type": "code",
   "execution_count": 25,
   "metadata": {},
   "outputs": [],
   "source": [
    "locations = weather[[\"lat\", \"lng\"]]\n",
    "humid = weather[\"humid\"]"
   ]
  },
  {
   "cell_type": "code",
   "execution_count": 33,
   "metadata": {},
   "outputs": [
    {
     "data": {
      "application/vnd.jupyter.widget-view+json": {
       "model_id": "3f9735983af64201b8a234fe53a44012",
       "version_major": 2,
       "version_minor": 0
      },
      "text/plain": [
       "Figure(layout=FigureLayout(height='420px'))"
      ]
     },
     "metadata": {},
     "output_type": "display_data"
    }
   ],
   "source": [
    "fig = gmaps.figure()\n",
    "\n",
    "heat_layer = gmaps.heatmap_layer(locations, weights=humid,\n",
    "                                 dissipating=False, max_intensity=100,\n",
    "                                 point_radius=2)\n",
    "\n",
    "fig.add_layer(heat_layer)\n",
    "\n",
    "fig"
   ]
  },
  {
   "cell_type": "code",
   "execution_count": null,
   "metadata": {},
   "outputs": [],
   "source": []
  },
  {
   "cell_type": "code",
   "execution_count": null,
   "metadata": {},
   "outputs": [],
   "source": []
  }
 ],
 "metadata": {
  "kernelspec": {
   "display_name": "Python 3",
   "language": "python",
   "name": "python3"
  },
  "language_info": {
   "codemirror_mode": {
    "name": "ipython",
    "version": 3
   },
   "file_extension": ".py",
   "mimetype": "text/x-python",
   "name": "python",
   "nbconvert_exporter": "python",
   "pygments_lexer": "ipython3",
   "version": "3.7.3"
  }
 },
 "nbformat": 4,
 "nbformat_minor": 2
}
